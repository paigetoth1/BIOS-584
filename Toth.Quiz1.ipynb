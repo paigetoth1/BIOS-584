{
 "cells": [
  {
   "cell_type": "code",
   "execution_count": 47,
   "id": "07f81fb0-0609-487d-b4ed-65d5ebf6415a",
   "metadata": {},
   "outputs": [
    {
     "name": "stdout",
     "output_type": "stream",
     "text": [
      "Paige Toth\n"
     ]
    }
   ],
   "source": [
    "print('Paige Toth')"
   ]
  },
  {
   "cell_type": "code",
   "execution_count": 25,
   "id": "d8b0b019-e726-4657-aa49-dc8d4879cab4",
   "metadata": {},
   "outputs": [
    {
     "name": "stdout",
     "output_type": "stream",
     "text": [
      "['cat1', 'cat1', 'cat1', 'cat2']\n"
     ]
    }
   ],
   "source": [
    "cats1 = ['cat1', 'cat1', 'cat1']\n",
    "cats1.append('cat2')\n",
    "print(cats1)"
   ]
  },
  {
   "cell_type": "code",
   "execution_count": 26,
   "id": "0d2ea89a-c4ff-4876-aeac-197465da088b",
   "metadata": {},
   "outputs": [
    {
     "name": "stdout",
     "output_type": "stream",
     "text": [
      "[]\n"
     ]
    }
   ],
   "source": [
    "cats3=['cat1', 'cat1', 'cat1']\n",
    "cats3.clear()\n",
    "print(cats3)"
   ]
  },
  {
   "cell_type": "code",
   "execution_count": 34,
   "id": "146227f8-a884-4bf7-8bfc-51a861fb9f61",
   "metadata": {},
   "outputs": [
    {
     "name": "stdout",
     "output_type": "stream",
     "text": [
      "['cat1', 'cat1', 'cat1']\n"
     ]
    }
   ],
   "source": [
    "cats4=['cat1', 'cat1', 'cat1']\n",
    "cats4.copy()\n",
    "print(cats4)"
   ]
  },
  {
   "cell_type": "code",
   "execution_count": 45,
   "id": "d6b72127-5e33-4e92-baf7-7de37039a000",
   "metadata": {},
   "outputs": [
    {
     "data": {
      "text/plain": [
       "2"
      ]
     },
     "execution_count": 45,
     "metadata": {},
     "output_type": "execute_result"
    }
   ],
   "source": [
    "cats5=['cat1', 'cat1', 'cat2']\n",
    "cats5.count('cat1')"
   ]
  },
  {
   "cell_type": "code",
   "execution_count": 43,
   "id": "f97fed42-1438-4762-a6da-8edd1c1c5488",
   "metadata": {},
   "outputs": [
    {
     "name": "stdout",
     "output_type": "stream",
     "text": [
      "2\n"
     ]
    }
   ],
   "source": [
    "cats6=['cat1', 'cat1', 'cat2']\n",
    "print(cats6.index('cat2'))"
   ]
  },
  {
   "cell_type": "code",
   "execution_count": 40,
   "id": "af7f29d4-ce35-4aa3-a1e0-8781bd531f29",
   "metadata": {},
   "outputs": [
    {
     "name": "stdout",
     "output_type": "stream",
     "text": [
      "['cat1', 'cat2', 'cat1', 'cat2']\n"
     ]
    }
   ],
   "source": [
    "cats7=['cat1', 'cat1', 'cat2']\n",
    "cats7.insert(1,'cat2')\n",
    "print(cats7)"
   ]
  },
  {
   "cell_type": "code",
   "execution_count": 44,
   "id": "acff94dd-4ad1-476e-a139-cce87b276c90",
   "metadata": {},
   "outputs": [
    {
     "name": "stdout",
     "output_type": "stream",
     "text": [
      "cat2\n"
     ]
    }
   ],
   "source": [
    "cats8=['cat1', 'cat1', 'cat2']\n",
    "print(cats8.pop(2))"
   ]
  },
  {
   "cell_type": "code",
   "execution_count": 38,
   "id": "813a7f96-c465-4c57-b274-c3f071579efe",
   "metadata": {},
   "outputs": [
    {
     "name": "stdout",
     "output_type": "stream",
     "text": [
      "['cat1', 'cat1']\n"
     ]
    }
   ],
   "source": [
    "cats9=['cat1', 'cat1', 'cat2']\n",
    "cats9.remove('cat2')\n",
    "print(cats9)"
   ]
  },
  {
   "cell_type": "code",
   "execution_count": 37,
   "id": "4c0db80f-2b39-4d63-870f-9e4c8e10e5fe",
   "metadata": {},
   "outputs": [
    {
     "name": "stdout",
     "output_type": "stream",
     "text": [
      "['cat2', 'cat1', 'cat1']\n"
     ]
    }
   ],
   "source": [
    "cats10=['cat1', 'cat1', 'cat2']\n",
    "cats10.reverse()\n",
    "print(cats10)"
   ]
  },
  {
   "cell_type": "code",
   "execution_count": null,
   "id": "905c1346-5ef9-44b2-bbce-8b7e75004983",
   "metadata": {},
   "outputs": [],
   "source": []
  }
 ],
 "metadata": {
  "kernelspec": {
   "display_name": "Python 3 (ipykernel)",
   "language": "python",
   "name": "python3"
  },
  "language_info": {
   "codemirror_mode": {
    "name": "ipython",
    "version": 3
   },
   "file_extension": ".py",
   "mimetype": "text/x-python",
   "name": "python",
   "nbconvert_exporter": "python",
   "pygments_lexer": "ipython3",
   "version": "3.13.7"
  }
 },
 "nbformat": 4,
 "nbformat_minor": 5
}
